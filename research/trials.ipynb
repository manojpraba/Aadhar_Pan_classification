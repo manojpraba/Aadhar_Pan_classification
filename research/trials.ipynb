{
 "cells": [
  {
   "cell_type": "code",
   "execution_count": 1,
   "metadata": {},
   "outputs": [
    {
     "data": {
      "text/plain": [
       "2"
      ]
     },
     "execution_count": 1,
     "metadata": {},
     "output_type": "execute_result"
    }
   ],
   "source": [
    "1+1"
   ]
  },
  {
   "cell_type": "code",
   "execution_count": 2,
   "metadata": {},
   "outputs": [],
   "source": [
    "import gdown"
   ]
  },
  {
   "cell_type": "code",
   "execution_count": 7,
   "metadata": {},
   "outputs": [],
   "source": [
    "url=\"https://drive.google.com/drive/folders/1s_ItqbrW90NK6aD6UipWFuuTGE_t4v5d\""
   ]
  },
  {
   "cell_type": "code",
   "execution_count": null,
   "metadata": {},
   "outputs": [],
   "source": [
    "https://drive.google.com/drive/folders/1s_ItqbrW90NK6aD6UipWFuuTGE_t4v5d?usp=drive_link"
   ]
  },
  {
   "cell_type": "code",
   "execution_count": null,
   "metadata": {},
   "outputs": [],
   "source": [
    "https://drive.google.com/drive/folders/1s_ItqbrW90NK6aD6UipWFuuTGE_t4v5d"
   ]
  },
  {
   "cell_type": "code",
   "execution_count": 9,
   "metadata": {},
   "outputs": [
    {
     "data": {
      "text/plain": [
       "'1s_ItqbrW90NK6aD6UipWFuuTGE_t4v5d'"
      ]
     },
     "execution_count": 9,
     "metadata": {},
     "output_type": "execute_result"
    }
   ],
   "source": [
    "id=url.split(\"/\")[-1]\n",
    "id"
   ]
  },
  {
   "cell_type": "code",
   "execution_count": 1,
   "metadata": {},
   "outputs": [
    {
     "name": "stdout",
     "output_type": "stream",
     "text": [
      "Index of maximum value in the entire array: 5\n",
      "Indices of maximum values along each column: [1 1 1]\n",
      "Indices of maximum values along each row: [2 2]\n"
     ]
    }
   ],
   "source": [
    "import numpy as np\n",
    "\n",
    "arr = np.array([[1, 2, 3],\n",
    "                [4, 5, 6]])\n",
    "\n",
    "# Find the index of the maximum value in the entire array\n",
    "max_index = np.argmax(arr)\n",
    "print(\"Index of maximum value in the entire array:\", max_index)  # Output: 5\n",
    "\n",
    "# Find the indices of the maximum values along each column\n",
    "max_indices_col = np.argmax(arr, axis=0)\n",
    "print(\"Indices of maximum values along each column:\", max_indices_col)  # Output: [1 1 1]\n",
    "\n",
    "# Find the indices of the maximum values along each row\n",
    "max_indices_row = np.argmax(arr, axis=1)\n",
    "print(\"Indices of maximum values along each row:\", max_indices_row)  # Output: [2 2]\n"
   ]
  },
  {
   "cell_type": "code",
   "execution_count": 8,
   "metadata": {},
   "outputs": [
    {
     "ename": "SyntaxError",
     "evalue": "invalid syntax (608284213.py, line 1)",
     "output_type": "error",
     "traceback": [
      "\u001b[1;36m  Cell \u001b[1;32mIn[8], line 1\u001b[1;36m\u001b[0m\n\u001b[1;33m    [[0. 1.]]\u001b[0m\n\u001b[1;37m         ^\u001b[0m\n\u001b[1;31mSyntaxError\u001b[0m\u001b[1;31m:\u001b[0m invalid syntax\n"
     ]
    }
   ],
   "source": [
    "[[0. 1.]]"
   ]
  },
  {
   "cell_type": "code",
   "execution_count": 10,
   "metadata": {},
   "outputs": [
    {
     "data": {
      "text/plain": [
       "array([[1, 2, 3],\n",
       "       [4, 5, 6]])"
      ]
     },
     "execution_count": 10,
     "metadata": {},
     "output_type": "execute_result"
    }
   ],
   "source": [
    "arr"
   ]
  },
  {
   "cell_type": "code",
   "execution_count": 11,
   "metadata": {},
   "outputs": [
    {
     "data": {
      "text/plain": [
       "1"
      ]
     },
     "execution_count": 11,
     "metadata": {},
     "output_type": "execute_result"
    }
   ],
   "source": [
    "arr[0][0]"
   ]
  },
  {
   "cell_type": "code",
   "execution_count": 1,
   "metadata": {},
   "outputs": [],
   "source": [
    "import cv2\n"
   ]
  },
  {
   "cell_type": "code",
   "execution_count": 10,
   "metadata": {},
   "outputs": [
    {
     "data": {
      "text/plain": [
       "'c:\\\\DL projects\\\\Aadhar_Pan_classification\\\\research'"
      ]
     },
     "execution_count": 10,
     "metadata": {},
     "output_type": "execute_result"
    }
   ],
   "source": [
    "pwd"
   ]
  },
  {
   "cell_type": "code",
   "execution_count": 8,
   "metadata": {},
   "outputs": [
    {
     "name": "stdout",
     "output_type": "stream",
     "text": [
      "None\n"
     ]
    }
   ],
   "source": [
    "import cv2 as cv\n",
    "import pytesseract\n",
    "\n",
    "# Read the input image\n",
    "image = cv.imread('/aadhar.jpg')\n",
    "print(image)"
   ]
  },
  {
   "cell_type": "code",
   "execution_count": 3,
   "metadata": {},
   "outputs": [
    {
     "name": "stdout",
     "output_type": "stream",
     "text": [
      "Requirement already satisfied: easyocr in c:\\dl projects\\aadhar_pan_classification\\env\\lib\\site-packages (1.7.1)\n",
      "Requirement already satisfied: torch in c:\\dl projects\\aadhar_pan_classification\\env\\lib\\site-packages (from easyocr) (2.2.1)\n",
      "Requirement already satisfied: torchvision>=0.5 in c:\\dl projects\\aadhar_pan_classification\\env\\lib\\site-packages (from easyocr) (0.17.1)\n",
      "Requirement already satisfied: opencv-python-headless in c:\\dl projects\\aadhar_pan_classification\\env\\lib\\site-packages (from easyocr) (4.9.0.80)\n",
      "Requirement already satisfied: scipy in c:\\dl projects\\aadhar_pan_classification\\env\\lib\\site-packages (from easyocr) (1.10.1)\n",
      "Requirement already satisfied: numpy in c:\\dl projects\\aadhar_pan_classification\\env\\lib\\site-packages (from easyocr) (1.23.5)\n",
      "Requirement already satisfied: Pillow in c:\\dl projects\\aadhar_pan_classification\\env\\lib\\site-packages (from easyocr) (10.2.0)\n",
      "Requirement already satisfied: scikit-image in c:\\dl projects\\aadhar_pan_classification\\env\\lib\\site-packages (from easyocr) (0.21.0)\n",
      "Requirement already satisfied: python-bidi in c:\\dl projects\\aadhar_pan_classification\\env\\lib\\site-packages (from easyocr) (0.4.2)\n",
      "Requirement already satisfied: PyYAML in c:\\dl projects\\aadhar_pan_classification\\env\\lib\\site-packages (from easyocr) (6.0.1)\n",
      "Requirement already satisfied: Shapely in c:\\dl projects\\aadhar_pan_classification\\env\\lib\\site-packages (from easyocr) (2.0.3)\n",
      "Requirement already satisfied: pyclipper in c:\\dl projects\\aadhar_pan_classification\\env\\lib\\site-packages (from easyocr) (1.3.0.post5)\n",
      "Requirement already satisfied: ninja in c:\\dl projects\\aadhar_pan_classification\\env\\lib\\site-packages (from easyocr) (1.11.1.1)\n",
      "Requirement already satisfied: filelock in c:\\dl projects\\aadhar_pan_classification\\env\\lib\\site-packages (from torch->easyocr) (3.13.1)\n",
      "Requirement already satisfied: typing-extensions>=4.8.0 in c:\\dl projects\\aadhar_pan_classification\\env\\lib\\site-packages (from torch->easyocr) (4.9.0)\n",
      "Requirement already satisfied: sympy in c:\\dl projects\\aadhar_pan_classification\\env\\lib\\site-packages (from torch->easyocr) (1.12)\n",
      "Requirement already satisfied: networkx in c:\\dl projects\\aadhar_pan_classification\\env\\lib\\site-packages (from torch->easyocr) (3.1)\n",
      "Requirement already satisfied: jinja2 in c:\\dl projects\\aadhar_pan_classification\\env\\lib\\site-packages (from torch->easyocr) (3.1.3)\n",
      "Requirement already satisfied: fsspec in c:\\dl projects\\aadhar_pan_classification\\env\\lib\\site-packages (from torch->easyocr) (2024.2.0)\n",
      "Requirement already satisfied: six in c:\\dl projects\\aadhar_pan_classification\\env\\lib\\site-packages (from python-bidi->easyocr) (1.16.0)\n",
      "Requirement already satisfied: imageio>=2.27 in c:\\dl projects\\aadhar_pan_classification\\env\\lib\\site-packages (from scikit-image->easyocr) (2.34.0)\n",
      "Requirement already satisfied: tifffile>=2022.8.12 in c:\\dl projects\\aadhar_pan_classification\\env\\lib\\site-packages (from scikit-image->easyocr) (2023.7.10)\n",
      "Requirement already satisfied: PyWavelets>=1.1.1 in c:\\dl projects\\aadhar_pan_classification\\env\\lib\\site-packages (from scikit-image->easyocr) (1.4.1)\n",
      "Requirement already satisfied: packaging>=21 in c:\\dl projects\\aadhar_pan_classification\\env\\lib\\site-packages (from scikit-image->easyocr) (23.2)\n",
      "Requirement already satisfied: lazy_loader>=0.2 in c:\\dl projects\\aadhar_pan_classification\\env\\lib\\site-packages (from scikit-image->easyocr) (0.3)\n",
      "Requirement already satisfied: MarkupSafe>=2.0 in c:\\dl projects\\aadhar_pan_classification\\env\\lib\\site-packages (from jinja2->torch->easyocr) (2.1.5)\n",
      "Requirement already satisfied: mpmath>=0.19 in c:\\dl projects\\aadhar_pan_classification\\env\\lib\\site-packages (from sympy->torch->easyocr) (1.3.0)\n",
      "Note: you may need to restart the kernel to use updated packages.\n"
     ]
    }
   ],
   "source": [
    "pip install easyocr"
   ]
  },
  {
   "cell_type": "code",
   "execution_count": 2,
   "metadata": {},
   "outputs": [
    {
     "name": "stdout",
     "output_type": "stream",
     "text": [
      "Requirement already satisfied: opencv-python in c:\\dl projects\\aadhar_pan_classification\\env\\lib\\site-packages (4.5.3.56)\n",
      "Collecting opencv-python\n",
      "  Using cached opencv_python-4.9.0.80-cp37-abi3-win_amd64.whl.metadata (20 kB)\n",
      "Requirement already satisfied: numpy>=1.17.0 in c:\\dl projects\\aadhar_pan_classification\\env\\lib\\site-packages (from opencv-python) (1.23.5)\n",
      "Using cached opencv_python-4.9.0.80-cp37-abi3-win_amd64.whl (38.6 MB)\n",
      "Installing collected packages: opencv-python\n",
      "  Attempting uninstall: opencv-python\n",
      "    Found existing installation: opencv-python 4.5.3.56\n",
      "    Uninstalling opencv-python-4.5.3.56:\n",
      "      Successfully uninstalled opencv-python-4.5.3.56\n",
      "Successfully installed opencv-python-4.9.0.80\n",
      "Note: you may need to restart the kernel to use updated packages.\n"
     ]
    },
    {
     "name": "stderr",
     "output_type": "stream",
     "text": [
      "  WARNING: Failed to remove contents in a temporary directory 'C:\\Users\\mmanoj\\AppData\\Local\\Temp\\pip-uninstall-a4ilzyw3'.\n",
      "  You can safely remove it manually.\n"
     ]
    }
   ],
   "source": [
    "pip install --upgrade opencv-python"
   ]
  },
  {
   "cell_type": "code",
   "execution_count": 26,
   "metadata": {},
   "outputs": [
    {
     "name": "stderr",
     "output_type": "stream",
     "text": [
      "Neither CUDA nor MPS are available - defaulting to CPU. Note: This module is much faster with a GPU.\n"
     ]
    }
   ],
   "source": [
    "import easyocr\n",
    "import matplotlib.pyplot as plt\n",
    "import cv2\n",
    "reader = easyocr.Reader(['en'])"
   ]
  },
  {
   "cell_type": "code",
   "execution_count": 60,
   "metadata": {},
   "outputs": [
    {
     "name": "stdout",
     "output_type": "stream",
     "text": [
      "314a5r\n",
      "fatT\n",
      "HRT\n",
      "TER\n",
      "INCOME TAX DEPARTMENT\n",
      "GOVT OF INDIA\n",
      "Terre} cd7 4GHT TTe\n",
      "Permanent Account Number Card\n",
      "BFAPL9762A\n",
      "74\n",
      "Name\n",
      "SELHUVO LOHE\n",
      "fu %T 714 / Father'$ Name\n",
      "CHINEYI LOHE\n",
      "18012020 \n",
      "T4#aral\n",
      "Date of Birth\n",
      "10/09/2001\n",
      "a7T8F / Signature\n",
      "dekk\n"
     ]
    }
   ],
   "source": [
    "\n",
    "\n",
    "# Initialize EasyOCR with the English language (default)\n",
    "\n",
    "\n",
    "# Read the input image\n",
    "img_path = \"C:\\AAdhar pan data\\Aadhar_Pan\\Pancard\\pancard_background not cropped.jpg\"\n",
    "\n",
    "# Perform text detection and recognition\n",
    "result = reader.readtext(img_path)\n",
    "for ss in result:\n",
    "    print(ss[1])\n",
    "\n"
   ]
  },
  {
   "cell_type": "code",
   "execution_count": 63,
   "metadata": {},
   "outputs": [
    {
     "name": "stdout",
     "output_type": "stream",
     "text": [
      "Name: <re.Match object; span=(0, 1), match='D'>\n",
      "PAN Number: None\n",
      "Date of Birth: 10/09/2001\n"
     ]
    }
   ],
   "source": [
    "import re\n",
    "\n",
    "output = [([[247, 512], [1042, 512], [1042, 695], [247, 695]], '34rr', 0.1429234743118286),\n",
    "          ([[1134, 459], [1811, 459], [1811, 726], [1134, 726]], 'fatrT', 0.2136088458364599),\n",
    "          ([[2601, 532], [3119, 532], [3119, 724], [2601, 724]], 'YTRT', 0.0712936744093895),\n",
    "          ([[3213, 545], [3852, 545], [3852, 743], [3213, 743]], 'TER', 0.08328442968698237),\n",
    "          ([[189, 738], [1785, 738], [1785, 914], [189, 914]], 'INCOME TAX DEPARTMENT', 0.9778575904931738),\n",
    "          ([[2636, 750], [3845, 750], [3845, 935], [2636, 935]], 'GOVT: OF INDIA', 0.7646271712129281),\n",
    "          ([[1501, 1074], [2751, 1074], [2751, 1221], [1501, 1221]], 'ur Td1 HG &78', 0.014706179135716245),\n",
    "          ([[1265, 1235], [2931, 1235], [2931, 1374], [1265, 1374]], 'Permanent Account Number Card', 0.831304543250938),\n",
    "          ([[1563, 1448], [2606, 1448], [2606, 1607], [1563, 1607]], 'GQBPK8ZOOC', 0.8418994977026906),\n",
    "          ([[216, 1725], [698, 1725], [698, 1825], [216, 1825]], '7T4 / Name', 0.3863920239314602),\n",
    "          ([[221, 1830], [1478, 1830], [1478, 1959], [221, 1959]], 'KOCHERLA SRIKANTH', 0.9914324686272853),\n",
    "          ([[205, 2064], [1444, 2064], [1444, 2196], [205, 2196]], \"faa #1 7T4 / Father'$ Name\", 0.3399273015858259),\n",
    "          ([[221, 2179], [1493, 2179], [1493, 2305], [221, 2305]], 'MUKKANTI KOCHERLA', 0.8875360475768185),\n",
    "          ([[216, 2476], [1446, 2476], [1446, 2599], [216, 2599]], 'TA* 7a/ Date of Birth', 0.42644228939631756),\n",
    "          ([[1964, 2507], [2668, 2507], [2668, 2670], [1964, 2670]], 'K: Sikanth:', 0.45445013672926265),\n",
    "          ([[3875, 2282], [3967, 2282], [3967, 2727], [3875, 2727]], '1', 0.10973950312440284),\n",
    "          ([[220, 2615], [919, 2615], [919, 2756], [220, 2756]], '04/05/1997', 0.9964320699677284),\n",
    "          ([[1892, 2697], [2243, 2697], [2243, 2826], [1892, 2826]], '{&7', 0.08368647070722936),\n",
    "          ([[2285, 2691], [2693, 2691], [2693, 2814], [2285, 2814]], 'Signature', 0.9999806880018541)]\n",
    "\n",
    "# Initialize variables to store extracted information\n",
    "name = None\n",
    "pan_number = None\n",
    "dob = None\n",
    "\n",
    "# Define regular expression patterns\n",
    "name_pattern = r\"^[A-Z\\s]+\"\n",
    "pan_pattern = r\"[A-Z]{5}[0-9]{4}[A-Z]\"\n",
    "dob_pattern = r\"(\\d{2}/\\d{2}/\\d{4})\"\n",
    "\n",
    "# Iterate over each tuple in the output\n",
    "for tup in result:\n",
    "    # Extract string value from the tuple\n",
    "    string_value = tup[1]\n",
    "\n",
    "    # Check if the string value matches the regular expression patterns\n",
    "    name_match = re.search(name_pattern, string_value)\n",
    "    pan_match = re.search(pan_pattern, string_value)\n",
    "    dob_match = re.search(dob_pattern, string_value)\n",
    "\n",
    "    if name_match:\n",
    "        name = name_match\n",
    "    elif pan_match:\n",
    "        pan_number = pan_match.group(1)\n",
    "    elif dob_match:\n",
    "        dob = dob_match.group(1)\n",
    "\n",
    "# Print the extracted information\n",
    "print(\"Name:\", name)\n",
    "print(\"PAN Number:\", pan_number)\n",
    "print(\"Date of Birth:\", dob)\n"
   ]
  },
  {
   "cell_type": "code",
   "execution_count": null,
   "metadata": {},
   "outputs": [],
   "source": [
    "ss=get_values(result)"
   ]
  },
  {
   "cell_type": "code",
   "execution_count": 11,
   "metadata": {},
   "outputs": [],
   "source": [
    "import re"
   ]
  },
  {
   "cell_type": "code",
   "execution_count": 18,
   "metadata": {},
   "outputs": [],
   "source": [
    "def get_values(res_string_else):\n",
    "    \n",
    "    regex_name = None\n",
    "    regex_gender = None\n",
    "    regex_dob = None\n",
    "    regex_mobile_number = None\n",
    "    regex_aadhaar_number = None\n",
    "    \n",
    "    if not regex_name:\n",
    "        regex_name = re.findall(\"[A-Z][a-z]+\", res_string_else)\n",
    "    #extracting gender\n",
    "    regex_gender = re.findall(\"MALE|FEMALE|male|female|Male|Female\", res_string_else)\n",
    "    if regex_gender:\n",
    "        regex_gender = regex_gender\n",
    "    #print(regex_gender)\n",
    "\n",
    "    #extracting date of birth\n",
    "    regex_dob = re.findall(\"\\d\\d/\\d\\d/\\d\\d\\d\\d\", res_string_else)\n",
    "    if regex_dob:\n",
    "        regex_dob = regex_dob[0]\n",
    "    #print(\"dob1\",regex_dob)\n",
    "    if not regex_dob:\n",
    "        regex_dob = re.findall(\"(\\d\\d\\d\\d){1}\", res_string_else)\n",
    "    \n",
    "    regex_aadhaar_number = re.findall(\"\\d\\d\\d\\d \\d\\d\\d\\d \\d\\d\\d\\d\",res_string_else)\n",
    "    if regex_aadhaar_number:\n",
    "        regex_aadhaar_number = regex_aadhaar_number\n",
    "    #print(regex_aadhaar_number)\n",
    "\n",
    "    return(regex_name,regex_gender,regex_dob,regex_mobile_number,regex_aadhaar_number)\n"
   ]
  },
  {
   "cell_type": "code",
   "execution_count": 24,
   "metadata": {},
   "outputs": [
    {
     "name": "stdout",
     "output_type": "stream",
     "text": [
      "Name: TRGIR\n",
      "Gender: T / Male\n",
      "Aadhar Number: 7816 5725 9784\n",
      "Date of Birth: 05/03/1988\n"
     ]
    }
   ],
   "source": [
    "import re\n",
    "\n",
    "output = [([[306, 50], [374, 50], [374, 82], [306, 82]], 'TRGIR', 0.12259211261326922),\n",
    "          ([[207, 85], [413, 85], [413, 130], [207, 130]], 'Government of India', 0.9962775370230798),\n",
    "          ([[198, 146], [249, 146], [249, 177], [198, 177]], 'I1a', 0.026696447446622803),\n",
    "          ([[199, 177], [290, 177], [290, 210], [199, 210]], 'Shahnoor', 0.999915451941386),\n",
    "          ([[194, 344], [388, 344], [388, 376], [194, 376]], 'J5 a4 / DOB: 05/03/1988', 0.3770184956309564),\n",
    "          ([[193, 385], [281, 385], [281, 425], [193, 425]], 'T / Male', 0.25805928633048325),\n",
    "          ([[196, 463], [404, 463], [404, 516], [196, 516]], '7816 5725 9784', 0.6993328832467919),\n",
    "          ([[42, 562], [154, 562], [154, 618], [42, 618]], 'H4R', 0.380863657271904),\n",
    "          ([[183, 553], [270, 553], [270, 615], [183, 615]], 'H4', 0.684915143654005),\n",
    "          ([[377, 539], [563, 539], [563, 603], [377, 603]], '51 H47R', 0.04589916856448887)]\n",
    "\n",
    "name = None\n",
    "gender = None\n",
    "aadhar_number = None\n",
    "dob = None\n",
    "\n",
    "# Regular expression patterns\n",
    "name_pattern = r\"^[A-Za-z\\s]+\"\n",
    "gender_pattern = r\"(male|female)\"\n",
    "aadhar_number_pattern = r\"\\d{12}\"\n",
    "dob_pattern = r\"DOB: (\\d{2}/\\d{2}/\\d{4})\"\n",
    "\n",
    "for tup in output:\n",
    "    # Extract string value from the tuple\n",
    "    string_value = tup[1]\n",
    "    \n",
    "    # Check if the string value matches the regular expression patterns\n",
    "    if not name and re.match(name_pattern, string_value):\n",
    "        name = string_value.strip()\n",
    "    elif not gender and re.search(gender_pattern, string_value, re.IGNORECASE):\n",
    "        gender = string_value.strip()\n",
    "    elif not aadhar_number and re.match(aadhar_number_pattern, string_value.replace(\" \", \"\")):\n",
    "        aadhar_number = string_value\n",
    "    elif not dob:\n",
    "        dob_match = re.search(dob_pattern, string_value)\n",
    "        if dob_match:\n",
    "            dob = dob_match.group(1)\n",
    "\n",
    "print(\"Name:\", name)\n",
    "print(\"Gender:\", gender)\n",
    "print(\"Aadhar Number:\", aadhar_number)\n",
    "print(\"Date of Birth:\", dob)\n"
   ]
  }
 ],
 "metadata": {
  "kernelspec": {
   "display_name": "Python 3",
   "language": "python",
   "name": "python3"
  },
  "language_info": {
   "codemirror_mode": {
    "name": "ipython",
    "version": 3
   },
   "file_extension": ".py",
   "mimetype": "text/x-python",
   "name": "python",
   "nbconvert_exporter": "python",
   "pygments_lexer": "ipython3",
   "version": "3.8.0"
  }
 },
 "nbformat": 4,
 "nbformat_minor": 2
}
